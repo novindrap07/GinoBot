{
 "cells": [
  {
   "cell_type": "code",
   "execution_count": 1,
   "metadata": {},
   "outputs": [
    {
     "name": "stderr",
     "output_type": "stream",
     "text": [
      "/home/novindra/anaconda3/lib/python3.6/site-packages/h5py/__init__.py:36: FutureWarning: Conversion of the second argument of issubdtype from `float` to `np.floating` is deprecated. In future, it will be treated as `np.float64 == np.dtype(float).type`.\n",
      "  from ._conv import register_converters as _register_converters\n"
     ]
    }
   ],
   "source": [
    "from rasa_core.channels.telegram import TelegramInput\n",
    "from rasa_core.agent import Agent\n",
    "from rasa_core.interpreter import RegexInterpreter"
   ]
  },
  {
   "cell_type": "code",
   "execution_count": null,
   "metadata": {},
   "outputs": [],
   "source": [
    "agent = Agent.load(MODEL_PATH, interpreter=RegexInterpreter())\n",
    "\n",
    "    input_channel = TelegramInput(\n",
    "            # you get this when setting up a bot\n",
    "            access_token=\"717115180:AAHgqnNukqtwb3KePM-9Y6ruok5wm4dYVdQ\",\n",
    "            # this is your bots username\n",
    "            verify=\"GinoBot\",\n",
    "            # the url your bot should listen for messages\n",
    "            webhook_url=\"\")"
   ]
  }
 ],
 "metadata": {
  "kernelspec": {
   "display_name": "Python 3",
   "language": "python",
   "name": "python3"
  },
  "language_info": {
   "codemirror_mode": {
    "name": "ipython",
    "version": 3
   },
   "file_extension": ".py",
   "mimetype": "text/x-python",
   "name": "python",
   "nbconvert_exporter": "python",
   "pygments_lexer": "ipython3",
   "version": "3.6.5"
  }
 },
 "nbformat": 4,
 "nbformat_minor": 2
}
