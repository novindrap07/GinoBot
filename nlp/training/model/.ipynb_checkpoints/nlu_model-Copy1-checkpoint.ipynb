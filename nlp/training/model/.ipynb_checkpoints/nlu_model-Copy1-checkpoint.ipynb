{
 "cells": [
  {
   "cell_type": "code",
   "execution_count": 20,
   "metadata": {},
   "outputs": [],
   "source": [
    "from rasa_nlu.training_data import load_data\n",
    "from rasa_nlu.model import Trainer\n",
    "from rasa_nlu import config\n",
    "from rasa_nlu.model import Interpreter\n",
    "from rasa_nlu.components import ComponentBuilder"
   ]
  },
  {
   "cell_type": "code",
   "execution_count": 34,
   "metadata": {},
   "outputs": [
    {
     "ename": "SyntaxError",
     "evalue": "invalid syntax (<ipython-input-34-7e2ef96d1382>, line 8)",
     "output_type": "error",
     "traceback": [
      "\u001b[0;36m  File \u001b[0;32m\"<ipython-input-34-7e2ef96d1382>\"\u001b[0;36m, line \u001b[0;32m8\u001b[0m\n\u001b[0;31m    trainer.train(training_data)\u001b[0m\n\u001b[0m          ^\u001b[0m\n\u001b[0;31mSyntaxError\u001b[0m\u001b[0;31m:\u001b[0m invalid syntax\n"
     ]
    }
   ],
   "source": [
    "MODELFOLDER = 'ginobot'\n",
    "\n",
    "builder = ComponentBuilder(use_cache=True) \n",
    "# Train Data NLU\n",
    "configs = '../../config/config.json'\n",
    "training_data = load_data('../data/training_dataset.json')\n",
    "trainer = Trainer(config.load(configs))\n",
    "trainer.train(training_data)\n",
    "model_directory = trainer.persist('../../models/nlu/ginobot') \n",
    "# Run Data NLU\n",
    "interpreter = Interpreter.load(model_directory, builder)\n",
    "interpreter.parse(u\"Tugas Akhir\")\n",
    "interpreter_clone = Interpreter.load(model_directory, builder)"
   ]
  },
  {
   "cell_type": "code",
   "execution_count": null,
   "metadata": {},
   "outputs": [],
   "source": []
  }
 ],
 "metadata": {
  "kernelspec": {
   "display_name": "Python 3",
   "language": "python",
   "name": "python3"
  },
  "language_info": {
   "codemirror_mode": {
    "name": "ipython",
    "version": 3
   },
   "file_extension": ".py",
   "mimetype": "text/x-python",
   "name": "python",
   "nbconvert_exporter": "python",
   "pygments_lexer": "ipython3",
   "version": "3.6.5"
  }
 },
 "nbformat": 4,
 "nbformat_minor": 2
}
