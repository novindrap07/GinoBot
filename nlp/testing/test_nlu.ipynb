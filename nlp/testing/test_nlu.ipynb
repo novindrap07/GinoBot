{
 "cells": [
  {
   "cell_type": "code",
   "execution_count": 4,
   "metadata": {},
   "outputs": [],
   "source": [
    "from rasa_nlu.model import Metadata, Interpreter\n",
    "import json"
   ]
  },
  {
   "cell_type": "code",
   "execution_count": 5,
   "metadata": {},
   "outputs": [
    {
     "name": "stdout",
     "output_type": "stream",
     "text": [
      "INFO:tensorflow:Restoring parameters from ../models/nlu/default/model_ginobot/intent_classifier_tensorflow_embedding.ckpt\n",
      "{\n",
      "  \"intent\": {\n",
      "    \"name\": \"matkul\",\n",
      "    \"confidence\": 0.9752914309501648\n",
      "  },\n",
      "  \"entities\": [\n",
      "    {\n",
      "      \"start\": 0,\n",
      "      \"end\": 27,\n",
      "      \"value\": \"Dasar - Dasar Pemrograman I\",\n",
      "      \"entity\": \"matkul\",\n",
      "      \"confidence\": 0.67303806763037,\n",
      "      \"extractor\": \"ner_crf\"\n",
      "    }\n",
      "  ],\n",
      "  \"intent_ranking\": [\n",
      "    {\n",
      "      \"name\": \"matkul\",\n",
      "      \"confidence\": 0.9752914309501648\n",
      "    },\n",
      "    {\n",
      "      \"name\": \"jurusan\",\n",
      "      \"confidence\": 0.0\n",
      "    },\n",
      "    {\n",
      "      \"name\": \"hasil\",\n",
      "      \"confidence\": 0.0\n",
      "    }\n",
      "  ],\n",
      "  \"text\": \"Dasar - Dasar Pemrograman I\"\n",
      "}\n"
     ]
    }
   ],
   "source": [
    "def pprint(o):\n",
    " # small helper to make dict dumps a bit prettier\n",
    "    print(json.dumps(o, indent=2))\n",
    "\n",
    "interpreter = Interpreter.load(\"../models/nlu/default/model_ginobot\")\n",
    "pprint(interpreter.parse(u\"Dasar - Dasar Pemrograman I\"))"
   ]
  },
  {
   "cell_type": "code",
   "execution_count": null,
   "metadata": {},
   "outputs": [],
   "source": []
  }
 ],
 "metadata": {
  "kernelspec": {
   "display_name": "Python 3",
   "language": "python",
   "name": "python3"
  },
  "language_info": {
   "codemirror_mode": {
    "name": "ipython",
    "version": 3
   },
   "file_extension": ".py",
   "mimetype": "text/x-python",
   "name": "python",
   "nbconvert_exporter": "python",
   "pygments_lexer": "ipython3",
   "version": "3.6.5"
  }
 },
 "nbformat": 4,
 "nbformat_minor": 2
}
