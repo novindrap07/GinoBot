{
 "cells": [
  {
   "cell_type": "code",
   "execution_count": 1,
   "metadata": {},
   "outputs": [
    {
     "ename": "ImportError",
     "evalue": "cannot import name 'CollectingInputChannel' from 'rasa_core.channels.channel' (/home/novindra/anaconda3/lib/python3.7/site-packages/rasa_core/channels/channel.py)",
     "output_type": "error",
     "traceback": [
      "\u001b[0;31m---------------------------------------------------------------------------\u001b[0m",
      "\u001b[0;31mImportError\u001b[0m                               Traceback (most recent call last)",
      "\u001b[0;32m<ipython-input-1-02d9368706fb>\u001b[0m in \u001b[0;36m<module>\u001b[0;34m\u001b[0m\n\u001b[1;32m     12\u001b[0m \u001b[0;32mfrom\u001b[0m \u001b[0mrasa_core\u001b[0m\u001b[0;34m.\u001b[0m\u001b[0minterpreter\u001b[0m \u001b[0;32mimport\u001b[0m \u001b[0mRasaNLUInterpreter\u001b[0m\u001b[0;34m\u001b[0m\u001b[0;34m\u001b[0m\u001b[0m\n\u001b[1;32m     13\u001b[0m \u001b[0;32mfrom\u001b[0m \u001b[0mrasa_core\u001b[0m\u001b[0;34m.\u001b[0m\u001b[0mchannels\u001b[0m\u001b[0;34m.\u001b[0m\u001b[0mchannel\u001b[0m \u001b[0;32mimport\u001b[0m \u001b[0mCollectingOutputChannel\u001b[0m\u001b[0;34m\u001b[0m\u001b[0;34m\u001b[0m\u001b[0m\n\u001b[0;32m---> 14\u001b[0;31m \u001b[0;32mfrom\u001b[0m \u001b[0mrasa_core\u001b[0m\u001b[0;34m.\u001b[0m\u001b[0mchannels\u001b[0m\u001b[0;34m.\u001b[0m\u001b[0mchannel\u001b[0m \u001b[0;32mimport\u001b[0m \u001b[0mCollectingInputChannel\u001b[0m\u001b[0;34m\u001b[0m\u001b[0;34m\u001b[0m\u001b[0m\n\u001b[0m\u001b[1;32m     15\u001b[0m \u001b[0;34m\u001b[0m\u001b[0m\n\u001b[1;32m     16\u001b[0m \u001b[0;34m\u001b[0m\u001b[0m\n",
      "\u001b[0;31mImportError\u001b[0m: cannot import name 'CollectingInputChannel' from 'rasa_core.channels.channel' (/home/novindra/anaconda3/lib/python3.7/site-packages/rasa_core/channels/channel.py)"
     ]
    }
   ],
   "source": [
    "from __future__ import absolute_import\n",
    "from __future__ import division\n",
    "from __future__ import print_function\n",
    "from __future__ import unicode_literals\n",
    "\n",
    "import logging\n",
    "\n",
    "from rasa_core.agent import Agent\n",
    "from rasa_core.interpreter import RegexInterpreter\n",
    "from rasa_core.policies.keras_policy import KerasPolicy\n",
    "from rasa_core.policies.memoization import MemoizationPolicy\n",
    "from rasa_core.interpreter import RasaNLUInterpreter\n",
    "from rasa_core.channels.channel import CollectingOutputChannel\n",
    "from rasa_core.channels.channel import CollectingInputChannel\n",
    "\n",
    "\n",
    "logger = logging.getLogger(__name__)\n",
    "\n",
    "def run_online_trainer(input_channel,\n",
    "                        interpreter,\n",
    "                        domain_def_file='domain.yml',\n",
    "                        training_data_file='./stories.md',\n",
    "\n",
    "                        ):\n",
    "    agent = Agent(  domain_def_file,\n",
    "                    policies=[KerasPolicy(), MemoizationPolicy()],\n",
    "                    interpreter=interpreter)\n",
    "    agent.train_online( training_data_file,\n",
    "                        input_channel=input_channel,\n",
    "                        max_history=2,\n",
    "                        batch_size=500,\n",
    "                        epochs=200,\n",
    "                        max_training_samples=300)\n",
    "    return agent\n",
    "\n",
    "\n",
    "\n",
    "logging.basicConfig(level='INFO')\n",
    "interpreter = RasaNLUInterpreter('../models/nlu/default/model_20181213-101822')\n",
    "run_online_trainer(ConsoleInputChannel(), interpreter)"
   ]
  },
  {
   "cell_type": "code",
   "execution_count": null,
   "metadata": {},
   "outputs": [],
   "source": []
  }
 ],
 "metadata": {
  "kernelspec": {
   "display_name": "Python 3",
   "language": "python",
   "name": "python3"
  },
  "language_info": {
   "codemirror_mode": {
    "name": "ipython",
    "version": 3
   },
   "file_extension": ".py",
   "mimetype": "text/x-python",
   "name": "python",
   "nbconvert_exporter": "python",
   "pygments_lexer": "ipython3",
   "version": "3.7.1"
  }
 },
 "nbformat": 4,
 "nbformat_minor": 2
}
