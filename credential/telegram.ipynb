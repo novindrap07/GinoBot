{
 "cells": [
  {
   "cell_type": "code",
   "execution_count": 1,
   "metadata": {},
   "outputs": [
    {
     "ename": "IndentationError",
     "evalue": "unexpected indent (<ipython-input-1-43cf43d7d70d>, line 3)",
     "output_type": "error",
     "traceback": [
      "\u001b[0;36m  File \u001b[0;32m\"<ipython-input-1-43cf43d7d70d>\"\u001b[0;36m, line \u001b[0;32m3\u001b[0m\n\u001b[0;31m    httpretty.register_uri(\u001b[0m\n\u001b[0m    ^\u001b[0m\n\u001b[0;31mIndentationError\u001b[0m\u001b[0;31m:\u001b[0m unexpected indent\n"
     ]
    }
   ],
   "source": [
    " # telegram channel will try to set a webhook, so we need to mock the api\n",
    "\n",
    "    httpretty.register_uri(\n",
    "            httpretty.POST,\n",
    "            'https://api.telegram.org/GinoUnas_Bot:717115180:AAHgqnNukqtwb3KePM-9Y6ruok5wm4dYVdQ/setWebhook',\n",
    "            body='{\"ok\": true, \"result\": {}}')\n",
    "\n",
    "    httpretty.enable()"
   ]
  },
  {
   "cell_type": "code",
   "execution_count": 1,
   "metadata": {},
   "outputs": [
    {
     "name": "stderr",
     "output_type": "stream",
     "text": [
      "/home/novindra/anaconda3/lib/python3.6/site-packages/h5py/__init__.py:36: FutureWarning: Conversion of the second argument of issubdtype from `float` to `np.floating` is deprecated. In future, it will be treated as `np.float64 == np.dtype(float).type`.\n",
      "  from ._conv import register_converters as _register_converters\n",
      "/home/novindra/anaconda3/lib/python3.6/site-packages/pykwalify/core.py:99: UnsafeLoaderWarning: \n",
      "The default 'Loader' for 'load(stream)' without further arguments can be unsafe.\n",
      "Use 'load(stream, Loader=ruamel.yaml.Loader)' explicitly if that is OK.\n",
      "Alternatively include the following in your code:\n",
      "\n",
      "  import warnings\n",
      "  warnings.simplefilter('ignore', ruamel.yaml.error.UnsafeLoaderWarning)\n",
      "\n",
      "In most other cases you should consider using 'safe_load(stream)'\n",
      "  data = yaml.load(stream)\n"
     ]
    }
   ],
   "source": [
    "from rasa_core.channels.telegram import TelegramInput\n",
    "from rasa_core.agent import Agent\n",
    "from rasa_core.interpreter import RegexInterpreter\n",
    "\n",
    "agent = Agent.load(\"../models/dialogue\", interpreter=RegexInterpreter())\n",
    "\n",
    "input_channel = TelegramInput(\n",
    "    # you get this when setting up a bot\n",
    "    access_token=\"717115180:AAHgqnNukqtwb3KePM-9Y6ruok5wm4dYVdQ\",\n",
    "    # this is your bots username\n",
    "    verify=\"GinoBot\",\n",
    "    # the url your bot should listen for messages\n",
    "    webhook_url=\"https://defbf752.ngrok.io\")\n",
    "    \n",
    "s = agent.handle_channels([input_channel], 5004, serve_forever=False)    "
   ]
  },
  {
   "cell_type": "code",
   "execution_count": null,
   "metadata": {},
   "outputs": [],
   "source": []
  }
 ],
 "metadata": {
  "kernelspec": {
   "display_name": "Python 3",
   "language": "python",
   "name": "python3"
  },
  "language_info": {
   "codemirror_mode": {
    "name": "ipython",
    "version": 3
   },
   "file_extension": ".py",
   "mimetype": "text/x-python",
   "name": "python",
   "nbconvert_exporter": "python",
   "pygments_lexer": "ipython3",
   "version": "3.6.5"
  }
 },
 "nbformat": 4,
 "nbformat_minor": 2
}
