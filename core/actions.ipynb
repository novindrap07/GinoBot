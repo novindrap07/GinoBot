{
 "cells": [
  {
   "cell_type": "code",
   "execution_count": 1,
   "metadata": {},
   "outputs": [],
   "source": [
    "import logging\n",
    "\n",
    "from rasa_core_sdk import Action\n",
    "from rasa_core_sdk.events import SlotSet\n",
    "import requests"
   ]
  },
  {
   "cell_type": "code",
   "execution_count": 2,
   "metadata": {},
   "outputs": [],
   "source": [
    "class ActionJurusan(Action):\n",
    "    def name(self):\n",
    "        return \"action_jurusan\"\n",
    "    \n",
    "    def run(self, dispatcher, tracker, domain):\n",
    "        ## panggil salah satu jurusan\n",
    "        return [SlotSet(\"jurusan\", data[\"jurusan\"])]  "
   ]
  },
  {
   "cell_type": "code",
   "execution_count": 3,
   "metadata": {},
   "outputs": [],
   "source": [
    "class ActionRestart(Action):\n",
    "    def name(self):\n",
    "        return \"action_restart\"\n",
    "\n",
    "    def run(self, dispatcher, tracker, domain):\n",
    "        from rasa_core.events import Restarted\n",
    "\n",
    "        # only utter the template if it is available\n",
    "        dispatcher.utter_template(\"utter_restart\", tracker,\n",
    "                                  silent_fail=True)\n",
    "        return [Restarted()]"
   ]
  },
  {
   "cell_type": "code",
   "execution_count": 4,
   "metadata": {},
   "outputs": [],
   "source": [
    "class ActionFallback(Action):\n",
    "    def name(self):\n",
    "        return \"action_fallback\"\n",
    "\n",
    "    def run(self, dispatcher, tracker, domain):\n",
    "        from rasa_core.events import UserUtteranceReverted\n",
    "\n",
    "        dispatcher.utter_template(\"utter_fallback\", tracker,\n",
    "                                  silent_fail=True)\n",
    "\n",
    "        return [UserUtteranceReverted()]"
   ]
  }
 ],
 "metadata": {
  "kernelspec": {
   "display_name": "Python 3",
   "language": "python",
   "name": "python3"
  },
  "language_info": {
   "codemirror_mode": {
    "name": "ipython",
    "version": 3
   },
   "file_extension": ".py",
   "mimetype": "text/x-python",
   "name": "python",
   "nbconvert_exporter": "python",
   "pygments_lexer": "ipython3",
   "version": "3.6.5"
  }
 },
 "nbformat": 4,
 "nbformat_minor": 2
}
