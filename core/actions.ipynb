{
 "cells": [
  {
   "cell_type": "code",
   "execution_count": 2,
   "metadata": {},
   "outputs": [],
   "source": [
    "from __future__ import absolute_import\n",
    "from __future__ import division\n",
    "from __future__ import print_function\n",
    "from __future__ import unicode_literals\n",
    "\n",
    "from rasa_core_sdk import Action\n",
    "from rasa_core_sdk.events import SlotSet\n",
    "import logging\n",
    "logger = logging.getLogger(__name__)\n",
    "import json\n",
    "import requests"
   ]
  },
  {
   "cell_type": "code",
   "execution_count": 3,
   "metadata": {},
   "outputs": [],
   "source": [
    "class ActionJurusan(Action):\n",
    "    def name(self):\n",
    "        return \"action_jurusan\"\n",
    "    \n",
    "    def run(self, dispatcher, tracker, domain):\n",
    "        dispatcher.utter_template(\"utter_jurusan\")\n",
    "            \n",
    "        return [SlotSet(\"jurusan\")]"
   ]
  },
  {
   "cell_type": "code",
   "execution_count": 9,
   "metadata": {},
   "outputs": [],
   "source": [
    "class ActionMatkul(Action):\n",
    "    def name(self):\n",
    "        return \"action_matkul\"\n",
    "    \n",
    "    def run(self, dispatcher, tracker, domain):\n",
    "        dispatcher.utter_message(tracker.get_slot(\"matkul\"))\n",
    "        tracker.get_slot('matkul')\n",
    "        with open('info_matkul.json') as json_file:  \n",
    "            data = json.load(json_file)\n",
    "            for p in data:\n",
    "                print('Mata Kuliah : ' + p['Mata Kuliah'])\n",
    "                print('')\n",
    "        return [SlotSet(\"matkul\")]"
   ]
  },
  {
   "cell_type": "code",
   "execution_count": 10,
   "metadata": {},
   "outputs": [],
   "source": [
    "class ActionInfoMatkul(Action):\n",
    "    def name(self):\n",
    "        return \"action_info_matkul\"\n",
    "    \n",
    "    def run(self, dispatcher, tracker, domain):\n",
    "        dispatcher.utter_message(tracker.get_slot(\"info_matkul\"))\n",
    "        tracker.get_slot('matkul')\n",
    "        with open('info_matkul.json') as json_file:  \n",
    "            data = json.load(json_file)\n",
    "            for p in data:\n",
    "                print('Kode Mata Kuliah : ' + p['Kode Mata Kuliah'])\n",
    "                print('Mata Kuliah : ' + p['Mata Kuliah'])\n",
    "                print('SKS : ' + p['SKS'])\n",
    "                print('Semester : ' + p['Semester'])\n",
    "                print('Informasi Mata Kuliah : ' + p['Informasi Mata Kuliah'])\n",
    "                print('Topik Mata Kuliah : ' + p['Topik Mata Kuliah'])\n",
    "                print('Software Mata Kuliah : ' + p['Software'])\n",
    "                print('Sesi Mata Kuliah : ' + p['Sesi Mata Kuliah'])\n",
    "                print('Mahasiswa Mata Kuliah : ' + p['Mahasiswa Mata Kuliah'])\n",
    "                print('Referensi Mata Kuliah : ' + p['Referensi Mata Kuliah'])\n",
    "                print('')               \n",
    "        return [SlotSet(\"info_matkul\")]"
   ]
  },
  {
   "cell_type": "code",
   "execution_count": 6,
   "metadata": {},
   "outputs": [],
   "source": [
    "class ActionDefaultFallback(Action):\n",
    "    def name(self):\n",
    "        return \"action_default_fallback\"\n",
    "\n",
    "    def run(self, dispatcher, tracker, domain):\n",
    "        from rasa_core.events import UserUtteranceReverted\n",
    "\n",
    "        dispatcher.utter_template(\"utter_salah\", tracker, silent_fail=True)\n",
    "\n",
    "        return [UserUtteranceReverted()]    "
   ]
  },
  {
   "cell_type": "code",
   "execution_count": null,
   "metadata": {},
   "outputs": [],
   "source": []
  }
 ],
 "metadata": {
  "kernelspec": {
   "display_name": "Python 3",
   "language": "python",
   "name": "python3"
  },
  "language_info": {
   "codemirror_mode": {
    "name": "ipython",
    "version": 3
   },
   "file_extension": ".py",
   "mimetype": "text/x-python",
   "name": "python",
   "nbconvert_exporter": "python",
   "pygments_lexer": "ipython3",
   "version": "3.6.5"
  }
 },
 "nbformat": 4,
 "nbformat_minor": 2
}
